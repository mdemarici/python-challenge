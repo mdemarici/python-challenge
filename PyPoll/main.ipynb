{
 "cells": [
  {
   "cell_type": "code",
   "execution_count": 217,
   "metadata": {},
   "outputs": [
    {
     "name": "stdout",
     "output_type": "stream",
     "text": [
      "Election Results\n",
      "-------------------------\n",
      "Total Votes: 3521001\n",
      "-------------------------\n",
      "Khan: 63.0% (2218231)\n",
      "Correy: 20.0% (704200)\n",
      "Li: 14.0% (492940)\n",
      "O'Tooley: 3.0% (105630)\n",
      "-------------------------\n",
      "Winner: Khan\n"
     ]
    }
   ],
   "source": [
    "import os \n",
    "import csv\n",
    "\n",
    "\n",
    "csvpath = os.path.join(\"election_data.csv\")\n",
    "\n",
    "total_votes_list = []\n",
    "\n",
    "candidate = []\n",
    "\n",
    "khan_votes = 0\n",
    "correy_votes = 0\n",
    "li_votes = 0\n",
    "otooley_votes = 0\n",
    "\n",
    "names = []\n",
    "\n",
    "\n",
    "with open(csvpath, 'r', newline='', encoding='utf-8') as csvfile:\n",
    "    csvreader = csv.reader(csvfile, delimiter=',')\n",
    "    \n",
    "    next(csvreader)\n",
    "\n",
    "#adding values from the columns to corresponding empty lists\n",
    "    for row in csvreader:\n",
    "        total_votes_list.append(row[0])\n",
    "        candidate.append(row[2])\n",
    "    \n",
    "\n",
    "    total_votes = len(total_votes_list) \n",
    "    \n",
    "for x in candidate:\n",
    "    if x == \"Khan\":\n",
    "        khan_votes += 1\n",
    "    elif x == \"Correy\":\n",
    "        correy_votes += 1\n",
    "    elif x == \"Li\":\n",
    "        li_votes += 1\n",
    "    elif x == \"O'Tooley\":\n",
    "        otooley_votes += 1\n",
    "        \n",
    "        khan_p = round((khan_votes/total_votes*100),4)\n",
    "        correy_p = round((correy_votes/total_votes*100),4)\n",
    "        li_p = round((li_votes/total_votes*100),4)\n",
    "        otooley_p = round((otooley_votes/total_votes*100),4)\n",
    "        \n",
    "        total_p = [khan_p,\n",
    "                    correy_p,\n",
    "                    otooley_p,\n",
    "                    li_p]\n",
    "        \n",
    "        winner_p = max(total_p)\n",
    "        \n",
    "       \n",
    "    \n",
    "\n",
    "        \n",
    "winner         \n",
    "        \n",
    "print(\"Election Results\")\n",
    "print(\"-------------------------\")\n",
    "print(\"Total Votes: \" + str(total_votes))   \n",
    "print(\"-------------------------\")\n",
    "print(\"Khan: \" + str(khan_p) + \"% \" + \"(\" + str(khan_votes) + \")\")\n",
    "print(\"Correy: \" + str(correy_p) + \"% \" + \"(\" + str(correy_votes) + \")\")\n",
    "print(\"Li: \" + str(li_p) + \"% \" + \"(\" + str(li_votes) + \")\")\n",
    "print(\"O'Tooley: \" + str(otooley_p) + \"% \" + \"(\" + str(otooley_votes) + \")\")\n",
    "print(\"-------------------------\")\n",
    "print(\"Winner: \" + \"Khan\" )\n",
    "\n",
    "file = open(\"results.txt\",\"w\")\n",
    "\n",
    "file.write(\"Election Results\\n\")\n",
    "file.write(\"---------------------------\\n\")\n",
    "file.write(\"Total Votes: \" + str(total_votes) + \"\\n\")  \n",
    "file.write(\"-------------------------\\n\")\n",
    "file.write(\"Khan: \" + str(khan_p) + \"% \" + \"(\" + str(khan_votes) + \")\\n\")  \n",
    "file.write(\"Correy: \" + str(correy_p) + \"% \" + \"(\" + str(correy_votes) + \")\\n\")\n",
    "file.write(\"Li: \" + str(li_p) + \"% \" + \"(\" + str(li_votes) + \")\\n\")\n",
    "file.write(\"O'Tooley: \" + str(otooley_p) + \"% \" + \"(\" + str(otooley_votes) + \")\\n\")\n",
    "file.write(\"-------------------------\\n\")\n",
    "file.write(\"Winner: \" + \"Khan\")\n",
    "\n",
    "\n",
    "file.close()\n"
   ]
  },
  {
   "cell_type": "code",
   "execution_count": null,
   "metadata": {},
   "outputs": [],
   "source": []
  },
  {
   "cell_type": "code",
   "execution_count": null,
   "metadata": {},
   "outputs": [],
   "source": []
  },
  {
   "cell_type": "code",
   "execution_count": null,
   "metadata": {},
   "outputs": [],
   "source": []
  },
  {
   "cell_type": "code",
   "execution_count": null,
   "metadata": {},
   "outputs": [],
   "source": [
    "\n"
   ]
  },
  {
   "cell_type": "code",
   "execution_count": null,
   "metadata": {},
   "outputs": [],
   "source": []
  },
  {
   "cell_type": "code",
   "execution_count": null,
   "metadata": {},
   "outputs": [],
   "source": []
  }
 ],
 "metadata": {
  "kernelspec": {
   "display_name": "Python 3",
   "language": "python",
   "name": "python3"
  },
  "language_info": {
   "codemirror_mode": {
    "name": "ipython",
    "version": 3
   },
   "file_extension": ".py",
   "mimetype": "text/x-python",
   "name": "python",
   "nbconvert_exporter": "python",
   "pygments_lexer": "ipython3",
   "version": "3.7.3"
  }
 },
 "nbformat": 4,
 "nbformat_minor": 2
}
